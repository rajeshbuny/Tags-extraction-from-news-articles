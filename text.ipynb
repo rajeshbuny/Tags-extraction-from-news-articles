{
 "cells": [
  {
   "cell_type": "code",
   "execution_count": 2,
   "metadata": {},
   "outputs": [],
   "source": [
    "import pandas as pd\n",
    "import numpy as np\n",
    "import nltk\n",
    "import re\n",
    "from nltk import sent_tokenize,word_tokenize\n",
    "import seaborn as sns\n",
    "from collections import Counter\n",
    "import matplotlib.pyplot as plt\n",
    "plt.rcParams[\"figure.figsize\"] = (15,5)"
   ]
  },
  {
   "cell_type": "code",
   "execution_count": 3,
   "metadata": {},
   "outputs": [],
   "source": [
    "df = pd.read_csv('~/Desktop/datasets/articles3.csv')"
   ]
  },
  {
   "cell_type": "code",
   "execution_count": 4,
   "metadata": {},
   "outputs": [
    {
     "data": {
      "text/html": [
       "<div>\n",
       "<style scoped>\n",
       "    .dataframe tbody tr th:only-of-type {\n",
       "        vertical-align: middle;\n",
       "    }\n",
       "\n",
       "    .dataframe tbody tr th {\n",
       "        vertical-align: top;\n",
       "    }\n",
       "\n",
       "    .dataframe thead th {\n",
       "        text-align: right;\n",
       "    }\n",
       "</style>\n",
       "<table border=\"1\" class=\"dataframe\">\n",
       "  <thead>\n",
       "    <tr style=\"text-align: right;\">\n",
       "      <th></th>\n",
       "      <th>Unnamed: 0</th>\n",
       "      <th>id</th>\n",
       "      <th>title</th>\n",
       "      <th>publication</th>\n",
       "      <th>author</th>\n",
       "      <th>date</th>\n",
       "      <th>year</th>\n",
       "      <th>month</th>\n",
       "      <th>url</th>\n",
       "      <th>content</th>\n",
       "    </tr>\n",
       "  </thead>\n",
       "  <tbody>\n",
       "    <tr>\n",
       "      <th>0</th>\n",
       "      <td>103459</td>\n",
       "      <td>151908</td>\n",
       "      <td>Alton Sterling’s son: ’Everyone needs to prote...</td>\n",
       "      <td>Guardian</td>\n",
       "      <td>Jessica Glenza</td>\n",
       "      <td>2016-07-13</td>\n",
       "      <td>2016.0</td>\n",
       "      <td>7.0</td>\n",
       "      <td>https://www.theguardian.com/us-news/2016/jul/1...</td>\n",
       "      <td>The son of a Louisiana man whose father was sh...</td>\n",
       "    </tr>\n",
       "    <tr>\n",
       "      <th>1</th>\n",
       "      <td>103460</td>\n",
       "      <td>151909</td>\n",
       "      <td>Shakespeare’s first four folios sell at auctio...</td>\n",
       "      <td>Guardian</td>\n",
       "      <td>NaN</td>\n",
       "      <td>2016-05-25</td>\n",
       "      <td>2016.0</td>\n",
       "      <td>5.0</td>\n",
       "      <td>https://www.theguardian.com/culture/2016/may/2...</td>\n",
       "      <td>Copies of William Shakespeare’s first four boo...</td>\n",
       "    </tr>\n",
       "    <tr>\n",
       "      <th>2</th>\n",
       "      <td>103461</td>\n",
       "      <td>151910</td>\n",
       "      <td>My grandmother’s death saved me from a life of...</td>\n",
       "      <td>Guardian</td>\n",
       "      <td>Robert Pendry</td>\n",
       "      <td>2016-10-31</td>\n",
       "      <td>2016.0</td>\n",
       "      <td>10.0</td>\n",
       "      <td>https://www.theguardian.com/commentisfree/2016...</td>\n",
       "      <td>Debt: $20, 000, Source: College, credit cards,...</td>\n",
       "    </tr>\n",
       "    <tr>\n",
       "      <th>3</th>\n",
       "      <td>103462</td>\n",
       "      <td>151911</td>\n",
       "      <td>I feared my life lacked meaning. Cancer pushed...</td>\n",
       "      <td>Guardian</td>\n",
       "      <td>Bradford Frost</td>\n",
       "      <td>2016-11-26</td>\n",
       "      <td>2016.0</td>\n",
       "      <td>11.0</td>\n",
       "      <td>https://www.theguardian.com/commentisfree/2016...</td>\n",
       "      <td>It was late. I was drunk, nearing my 35th birt...</td>\n",
       "    </tr>\n",
       "    <tr>\n",
       "      <th>4</th>\n",
       "      <td>103463</td>\n",
       "      <td>151912</td>\n",
       "      <td>Texas man serving life sentence innocent of do...</td>\n",
       "      <td>Guardian</td>\n",
       "      <td>NaN</td>\n",
       "      <td>2016-08-20</td>\n",
       "      <td>2016.0</td>\n",
       "      <td>8.0</td>\n",
       "      <td>https://www.theguardian.com/us-news/2016/aug/2...</td>\n",
       "      <td>A central Texas man serving a life sentence fo...</td>\n",
       "    </tr>\n",
       "  </tbody>\n",
       "</table>\n",
       "</div>"
      ],
      "text/plain": [
       "   Unnamed: 0      id                                              title  \\\n",
       "0      103459  151908  Alton Sterling’s son: ’Everyone needs to prote...   \n",
       "1      103460  151909  Shakespeare’s first four folios sell at auctio...   \n",
       "2      103461  151910  My grandmother’s death saved me from a life of...   \n",
       "3      103462  151911  I feared my life lacked meaning. Cancer pushed...   \n",
       "4      103463  151912  Texas man serving life sentence innocent of do...   \n",
       "\n",
       "  publication          author        date    year  month  \\\n",
       "0    Guardian  Jessica Glenza  2016-07-13  2016.0    7.0   \n",
       "1    Guardian             NaN  2016-05-25  2016.0    5.0   \n",
       "2    Guardian   Robert Pendry  2016-10-31  2016.0   10.0   \n",
       "3    Guardian  Bradford Frost  2016-11-26  2016.0   11.0   \n",
       "4    Guardian             NaN  2016-08-20  2016.0    8.0   \n",
       "\n",
       "                                                 url  \\\n",
       "0  https://www.theguardian.com/us-news/2016/jul/1...   \n",
       "1  https://www.theguardian.com/culture/2016/may/2...   \n",
       "2  https://www.theguardian.com/commentisfree/2016...   \n",
       "3  https://www.theguardian.com/commentisfree/2016...   \n",
       "4  https://www.theguardian.com/us-news/2016/aug/2...   \n",
       "\n",
       "                                             content  \n",
       "0  The son of a Louisiana man whose father was sh...  \n",
       "1  Copies of William Shakespeare’s first four boo...  \n",
       "2  Debt: $20, 000, Source: College, credit cards,...  \n",
       "3  It was late. I was drunk, nearing my 35th birt...  \n",
       "4  A central Texas man serving a life sentence fo...  "
      ]
     },
     "execution_count": 4,
     "metadata": {},
     "output_type": "execute_result"
    }
   ],
   "source": [
    "df.head(5)"
   ]
  },
  {
   "cell_type": "code",
   "execution_count": 5,
   "metadata": {},
   "outputs": [
    {
     "name": "stdout",
     "output_type": "stream",
     "text": [
      "(42571, 10)\n",
      "2\n"
     ]
    }
   ],
   "source": [
    "#shape of dataset\n",
    "print(df.shape)\n",
    "print(df.ndim)"
   ]
  },
  {
   "cell_type": "code",
   "execution_count": 6,
   "metadata": {},
   "outputs": [
    {
     "data": {
      "text/plain": [
       "Unnamed: 0       0\n",
       "id               0\n",
       "title            1\n",
       "publication      0\n",
       "author         972\n",
       "date            15\n",
       "year            15\n",
       "month           15\n",
       "url              0\n",
       "content          0\n",
       "dtype: int64"
      ]
     },
     "execution_count": 6,
     "metadata": {},
     "output_type": "execute_result"
    }
   ],
   "source": [
    "#null values\n",
    "df.isnull().sum()"
   ]
  },
  {
   "cell_type": "code",
   "execution_count": 7,
   "metadata": {},
   "outputs": [
    {
     "data": {
      "text/html": [
       "<div>\n",
       "<style scoped>\n",
       "    .dataframe tbody tr th:only-of-type {\n",
       "        vertical-align: middle;\n",
       "    }\n",
       "\n",
       "    .dataframe tbody tr th {\n",
       "        vertical-align: top;\n",
       "    }\n",
       "\n",
       "    .dataframe thead th {\n",
       "        text-align: right;\n",
       "    }\n",
       "</style>\n",
       "<table border=\"1\" class=\"dataframe\">\n",
       "  <thead>\n",
       "    <tr style=\"text-align: right;\">\n",
       "      <th></th>\n",
       "      <th>content</th>\n",
       "      <th>word_count</th>\n",
       "    </tr>\n",
       "  </thead>\n",
       "  <tbody>\n",
       "    <tr>\n",
       "      <th>0</th>\n",
       "      <td>The son of a Louisiana man whose father was sh...</td>\n",
       "      <td>355</td>\n",
       "    </tr>\n",
       "    <tr>\n",
       "      <th>1</th>\n",
       "      <td>Copies of William Shakespeare’s first four boo...</td>\n",
       "      <td>210</td>\n",
       "    </tr>\n",
       "    <tr>\n",
       "      <th>2</th>\n",
       "      <td>Debt: $20, 000, Source: College, credit cards,...</td>\n",
       "      <td>778</td>\n",
       "    </tr>\n",
       "    <tr>\n",
       "      <th>3</th>\n",
       "      <td>It was late. I was drunk, nearing my 35th birt...</td>\n",
       "      <td>728</td>\n",
       "    </tr>\n",
       "    <tr>\n",
       "      <th>4</th>\n",
       "      <td>A central Texas man serving a life sentence fo...</td>\n",
       "      <td>378</td>\n",
       "    </tr>\n",
       "  </tbody>\n",
       "</table>\n",
       "</div>"
      ],
      "text/plain": [
       "                                             content  word_count\n",
       "0  The son of a Louisiana man whose father was sh...         355\n",
       "1  Copies of William Shakespeare’s first four boo...         210\n",
       "2  Debt: $20, 000, Source: College, credit cards,...         778\n",
       "3  It was late. I was drunk, nearing my 35th birt...         728\n",
       "4  A central Texas man serving a life sentence fo...         378"
      ]
     },
     "execution_count": 7,
     "metadata": {},
     "output_type": "execute_result"
    }
   ],
   "source": [
    "df['word_count'] = df['content'].apply(lambda x: len(str(x).split(\" \")))\n",
    "df[['content','word_count']].head()"
   ]
  },
  {
   "cell_type": "code",
   "execution_count": 8,
   "metadata": {},
   "outputs": [
    {
     "data": {
      "text/plain": [
       "count    42571.000000\n",
       "mean       935.589697\n",
       "std        728.681228\n",
       "min          5.000000\n",
       "25%        544.000000\n",
       "50%        790.000000\n",
       "75%       1108.000000\n",
       "max      51861.000000\n",
       "Name: word_count, dtype: float64"
      ]
     },
     "execution_count": 8,
     "metadata": {},
     "output_type": "execute_result"
    }
   ],
   "source": [
    "##Descriptive statistics of word counts\n",
    "df.word_count.describe()"
   ]
  },
  {
   "cell_type": "code",
   "execution_count": 9,
   "metadata": {},
   "outputs": [
    {
     "data": {
      "text/html": [
       "<div>\n",
       "<style scoped>\n",
       "    .dataframe tbody tr th:only-of-type {\n",
       "        vertical-align: middle;\n",
       "    }\n",
       "\n",
       "    .dataframe tbody tr th {\n",
       "        vertical-align: top;\n",
       "    }\n",
       "\n",
       "    .dataframe thead th {\n",
       "        text-align: right;\n",
       "    }\n",
       "</style>\n",
       "<table border=\"1\" class=\"dataframe\">\n",
       "  <thead>\n",
       "    <tr style=\"text-align: right;\">\n",
       "      <th></th>\n",
       "      <th>Unnamed: 0</th>\n",
       "      <th>id</th>\n",
       "      <th>title</th>\n",
       "      <th>publication</th>\n",
       "      <th>author</th>\n",
       "      <th>date</th>\n",
       "      <th>year</th>\n",
       "      <th>month</th>\n",
       "      <th>url</th>\n",
       "      <th>content</th>\n",
       "      <th>word_count</th>\n",
       "    </tr>\n",
       "  </thead>\n",
       "  <tbody>\n",
       "    <tr>\n",
       "      <th>36826</th>\n",
       "      <td>140288</td>\n",
       "      <td>210779</td>\n",
       "      <td>Britainâ€™s flat idea to tax soda and other su...</td>\n",
       "      <td>Washington Post</td>\n",
       "      <td>Catherine Rampell</td>\n",
       "      <td>2016-03-22</td>\n",
       "      <td>2016.0</td>\n",
       "      <td>3.0</td>\n",
       "      <td>https://web.archive.org/web/20160323000344/htt...</td>\n",
       "      <td>LONDON</td>\n",
       "      <td>5</td>\n",
       "    </tr>\n",
       "    <tr>\n",
       "      <th>38346</th>\n",
       "      <td>141808</td>\n",
       "      <td>212711</td>\n",
       "      <td>In Orlando, an agonizing wait as shooting vict...</td>\n",
       "      <td>Washington Post</td>\n",
       "      <td>Hayley Tsukayama</td>\n",
       "      <td>2016-06-12</td>\n",
       "      <td>2016.0</td>\n",
       "      <td>6.0</td>\n",
       "      <td>https://web.archive.org/web/20160613001042/htt...</td>\n",
       "      <td>ORLANDO  ”</td>\n",
       "      <td>5</td>\n",
       "    </tr>\n",
       "  </tbody>\n",
       "</table>\n",
       "</div>"
      ],
      "text/plain": [
       "       Unnamed: 0      id                                              title  \\\n",
       "36826      140288  210779  Britainâ€™s flat idea to tax soda and other su...   \n",
       "38346      141808  212711  In Orlando, an agonizing wait as shooting vict...   \n",
       "\n",
       "           publication             author        date    year  month  \\\n",
       "36826  Washington Post  Catherine Rampell  2016-03-22  2016.0    3.0   \n",
       "38346  Washington Post   Hayley Tsukayama  2016-06-12  2016.0    6.0   \n",
       "\n",
       "                                                     url       content  \\\n",
       "36826  https://web.archive.org/web/20160323000344/htt...      LONDON     \n",
       "38346  https://web.archive.org/web/20160613001042/htt...    ORLANDO  ”   \n",
       "\n",
       "       word_count  \n",
       "36826           5  \n",
       "38346           5  "
      ]
     },
     "execution_count": 9,
     "metadata": {},
     "output_type": "execute_result"
    }
   ],
   "source": [
    "#Articles which have less than 10 words \n",
    "df.loc[df.word_count == 5]"
   ]
  },
  {
   "cell_type": "code",
   "execution_count": 10,
   "metadata": {
    "scrolled": true
   },
   "outputs": [
    {
     "data": {
      "text/html": [
       "<div>\n",
       "<style scoped>\n",
       "    .dataframe tbody tr th:only-of-type {\n",
       "        vertical-align: middle;\n",
       "    }\n",
       "\n",
       "    .dataframe tbody tr th {\n",
       "        vertical-align: top;\n",
       "    }\n",
       "\n",
       "    .dataframe thead th {\n",
       "        text-align: right;\n",
       "    }\n",
       "</style>\n",
       "<table border=\"1\" class=\"dataframe\">\n",
       "  <thead>\n",
       "    <tr style=\"text-align: right;\">\n",
       "      <th></th>\n",
       "      <th>Unnamed: 0</th>\n",
       "      <th>id</th>\n",
       "      <th>title</th>\n",
       "      <th>publication</th>\n",
       "      <th>author</th>\n",
       "      <th>date</th>\n",
       "      <th>year</th>\n",
       "      <th>month</th>\n",
       "      <th>url</th>\n",
       "      <th>content</th>\n",
       "      <th>word_count</th>\n",
       "    </tr>\n",
       "  </thead>\n",
       "  <tbody>\n",
       "    <tr>\n",
       "      <th>33119</th>\n",
       "      <td>136581</td>\n",
       "      <td>206095</td>\n",
       "      <td>Full transcript: FBI Director James Comey test...</td>\n",
       "      <td>Washington Post</td>\n",
       "      <td>Washington Post Staff</td>\n",
       "      <td>2017-03-20</td>\n",
       "      <td>2017.0</td>\n",
       "      <td>3.0</td>\n",
       "      <td>https://web.archive.org/web/20170321001527/htt...</td>\n",
       "      <td>Below is the full transcript from the...</td>\n",
       "      <td>51861</td>\n",
       "    </tr>\n",
       "  </tbody>\n",
       "</table>\n",
       "</div>"
      ],
      "text/plain": [
       "       Unnamed: 0      id                                              title  \\\n",
       "33119      136581  206095  Full transcript: FBI Director James Comey test...   \n",
       "\n",
       "           publication                 author        date    year  month  \\\n",
       "33119  Washington Post  Washington Post Staff  2017-03-20  2017.0    3.0   \n",
       "\n",
       "                                                     url  \\\n",
       "33119  https://web.archive.org/web/20170321001527/htt...   \n",
       "\n",
       "                                                 content  word_count  \n",
       "33119           Below is the full transcript from the...       51861  "
      ]
     },
     "execution_count": 10,
     "metadata": {},
     "output_type": "execute_result"
    }
   ],
   "source": [
    "#Articles which have maximum words\n",
    "df.loc[df.word_count == 51861]"
   ]
  },
  {
   "cell_type": "code",
   "execution_count": 11,
   "metadata": {
    "scrolled": true
   },
   "outputs": [
    {
     "name": "stderr",
     "output_type": "stream",
     "text": [
      "/anaconda3/lib/python3.7/site-packages/scipy/stats/stats.py:1713: FutureWarning: Using a non-tuple sequence for multidimensional indexing is deprecated; use `arr[tuple(seq)]` instead of `arr[seq]`. In the future this will be interpreted as an array index, `arr[np.array(seq)]`, which will result either in an error or a different result.\n",
      "  return np.add.reduce(sorted[indexer] * weights, axis=axis) / sumval\n"
     ]
    },
    {
     "data": {
      "image/png": "[encoded data removed]",
      "text/plain": [
       "<Figure size 432x288 with 1 Axes>"
      ]
     },
     "metadata": {
      "needs_background": "light"
     },
     "output_type": "display_data"
    }
   ],
   "source": [
    "#Organize Data\n",
    "SR = pd.Series(df['word_count'], name=\"Distribution of word count\")\n",
    "\n",
    "#Plot Data\n",
    "fig, ax = plt.subplots()\n",
    "sns.distplot(SR, color=\"g\", bins = 40,ax=ax)\n",
    "plt.show()"
   ]
  },
  {
   "cell_type": "code",
   "execution_count": 12,
   "metadata": {},
   "outputs": [],
   "source": [
    "weights = np.ones_like(SR.values)/len(SR.values)"
   ]
  },
  {
   "cell_type": "code",
   "execution_count": 13,
   "metadata": {},
   "outputs": [
    {
     "data": {
      "text/plain": [
       "array([2.34901694e-05, 2.34901694e-05, 2.34901694e-05, ...,\n",
       "       2.34901694e-05, 2.34901694e-05, 2.34901694e-05])"
      ]
     },
     "execution_count": 13,
     "metadata": {},
     "output_type": "execute_result"
    }
   ],
   "source": [
    "weights"
   ]
  },
  {
   "cell_type": "code",
   "execution_count": 14,
   "metadata": {
    "scrolled": true
   },
   "outputs": [
    {
     "data": {
      "image/png": "[encoded data removed]",
      "text/plain": [
       "<Figure size 432x288 with 1 Axes>"
      ]
     },
     "metadata": {
      "needs_background": "light"
     },
     "output_type": "display_data"
    }
   ],
   "source": [
    "plt.hist(SR, bins=40, weights=weights, color=\"y\",density=False)\n",
    "plt.ylabel(\"Probabilities\")\n",
    "plt.xlabel('distribution')\n",
    "plt.title(\"PMF of word count\")\n",
    "plt.show()"
   ]
  },
  {
   "cell_type": "code",
   "execution_count": 15,
   "metadata": {},
   "outputs": [],
   "source": [
    "probs = pd.cut(SR,40)"
   ]
  },
  {
   "cell_type": "code",
   "execution_count": 16,
   "metadata": {},
   "outputs": [
    {
     "name": "stdout",
     "output_type": "stream",
     "text": [
      "Counter({Interval(-46.856, 1301.4, closed='right'): 35140, Interval(1301.4, 2597.8, closed='right'): 6402, Interval(2597.8, 3894.2, closed='right'): 736, Interval(3894.2, 5190.6, closed='right'): 189, Interval(5190.6, 6487.0, closed='right'): 52, Interval(6487.0, 7783.4, closed='right'): 29, Interval(7783.4, 9079.8, closed='right'): 7, Interval(9079.8, 10376.2, closed='right'): 5, Interval(15561.8, 16858.2, closed='right'): 2, Interval(14265.4, 15561.8, closed='right'): 2, Interval(11672.6, 12969.0, closed='right'): 2, Interval(10376.2, 11672.6, closed='right'): 1, Interval(50564.6, 51861.0, closed='right'): 1, Interval(28525.8, 29822.2, closed='right'): 1, Interval(19451.0, 20747.4, closed='right'): 1, Interval(12969.0, 14265.4, closed='right'): 1})\n"
     ]
    }
   ],
   "source": [
    "#frequencies of bins\n",
    "frequencies = Counter(probs)\n",
    "print(frequencies)"
   ]
  },
  {
   "cell_type": "code",
   "execution_count": 17,
   "metadata": {},
   "outputs": [
    {
     "data": {
      "text/plain": [
       "1.0000000000000002"
      ]
     },
     "execution_count": 17,
     "metadata": {},
     "output_type": "execute_result"
    }
   ],
   "source": [
    "#sum of probabilities\n",
    "sum(probs.value_counts(normalize=True))"
   ]
  },
  {
   "cell_type": "code",
   "execution_count": 18,
   "metadata": {},
   "outputs": [
    {
     "data": {
      "text/plain": [
       "1607.0"
      ]
     },
     "execution_count": 18,
     "metadata": {},
     "output_type": "execute_result"
    }
   ],
   "source": [
    "df['word_count'].quantile(0.90)"
   ]
  },
  {
   "cell_type": "code",
   "execution_count": 19,
   "metadata": {},
   "outputs": [],
   "source": [
    "probs2 = pd.qcut(SR,[0,0.9])"
   ]
  },
  {
   "cell_type": "code",
   "execution_count": 20,
   "metadata": {},
   "outputs": [
    {
     "data": {
      "text/plain": [
       "(4.999, 1607.0]    1.0\n",
       "Name: Distribution of word count, dtype: float64"
      ]
     },
     "execution_count": 20,
     "metadata": {},
     "output_type": "execute_result"
    }
   ],
   "source": [
    "probs2.value_counts(normalize=True)"
   ]
  },
  {
   "cell_type": "code",
   "execution_count": 21,
   "metadata": {},
   "outputs": [
    {
     "data": {
      "image/png": "[encoded data removed]",
      "text/plain": [
       "<Figure size 360x576 with 1 Axes>"
      ]
     },
     "metadata": {
      "needs_background": "light"
     },
     "output_type": "display_data"
    }
   ],
   "source": [
    "#boxplot for word_count\n",
    "plt.rcParams[\"figure.figsize\"] = (5,8)\n",
    "\n",
    "bx = df.boxplot(column=['word_count'],fontsize=10)"
   ]
  },
  {
   "cell_type": "code",
   "execution_count": 22,
   "metadata": {},
   "outputs": [
    {
     "data": {
      "text/plain": [
       "count    42571.000000\n",
       "mean       935.589697\n",
       "std        728.681228\n",
       "min          5.000000\n",
       "25%        544.000000\n",
       "50%        790.000000\n",
       "75%       1108.000000\n",
       "max      51861.000000\n",
       "Name: word_count, dtype: float64"
      ]
     },
     "execution_count": 22,
     "metadata": {},
     "output_type": "execute_result"
    }
   ],
   "source": [
    "df.word_count.describe()"
   ]
  },
  {
   "cell_type": "code",
   "execution_count": 23,
   "metadata": {},
   "outputs": [
    {
     "name": "stdout",
     "output_type": "stream",
     "text": [
      "(100, 11)\n"
     ]
    }
   ],
   "source": [
    "#taking 100 samples randomly\n",
    "df2 = df.sample(n=100,replace=False,random_state=1)\n",
    "print(df2.shape)"
   ]
  },
  {
   "cell_type": "code",
   "execution_count": 24,
   "metadata": {},
   "outputs": [
    {
     "data": {
      "text/html": [
       "<div>\n",
       "<style scoped>\n",
       "    .dataframe tbody tr th:only-of-type {\n",
       "        vertical-align: middle;\n",
       "    }\n",
       "\n",
       "    .dataframe tbody tr th {\n",
       "        vertical-align: top;\n",
       "    }\n",
       "\n",
       "    .dataframe thead th {\n",
       "        text-align: right;\n",
       "    }\n",
       "</style>\n",
       "<table border=\"1\" class=\"dataframe\">\n",
       "  <thead>\n",
       "    <tr style=\"text-align: right;\">\n",
       "      <th></th>\n",
       "      <th>Unnamed: 0</th>\n",
       "      <th>id</th>\n",
       "      <th>title</th>\n",
       "      <th>publication</th>\n",
       "      <th>author</th>\n",
       "      <th>date</th>\n",
       "      <th>year</th>\n",
       "      <th>month</th>\n",
       "      <th>url</th>\n",
       "      <th>content</th>\n",
       "      <th>word_count</th>\n",
       "    </tr>\n",
       "  </thead>\n",
       "  <tbody>\n",
       "    <tr>\n",
       "      <th>36906</th>\n",
       "      <td>140368</td>\n",
       "      <td>210885</td>\n",
       "      <td>Date Lab: He’s ‘Star Wars’ and she’s ‘Star Trek’</td>\n",
       "      <td>Washington Post</td>\n",
       "      <td>NaN</td>\n",
       "      <td>2016-03-24</td>\n",
       "      <td>2016.0</td>\n",
       "      <td>3.0</td>\n",
       "      <td>https://web.archive.org/web/20160327000343/htt...</td>\n",
       "      <td>Interviews by Amanda McGrath He lifts, r...</td>\n",
       "      <td>836</td>\n",
       "    </tr>\n",
       "    <tr>\n",
       "      <th>33698</th>\n",
       "      <td>137160</td>\n",
       "      <td>206819</td>\n",
       "      <td>White House warns North Korea not to test U.S....</td>\n",
       "      <td>Washington Post</td>\n",
       "      <td>Anna Fifield</td>\n",
       "      <td>2017-04-17</td>\n",
       "      <td>2017.0</td>\n",
       "      <td>4.0</td>\n",
       "      <td>https://web.archive.org/web/20170417232933/htt...</td>\n",
       "      <td>TOKYO  —   Vice President Pence warned North...</td>\n",
       "      <td>286</td>\n",
       "    </tr>\n",
       "    <tr>\n",
       "      <th>18349</th>\n",
       "      <td>121811</td>\n",
       "      <td>180743</td>\n",
       "      <td>U.S.-Russia relations at another low after Syr...</td>\n",
       "      <td>Reuters</td>\n",
       "      <td>Yeganeh Torbati, Denis Dyomkin and Jeff Mason</td>\n",
       "      <td>2017-04-13</td>\n",
       "      <td>2017.0</td>\n",
       "      <td>4.0</td>\n",
       "      <td>http://www.reuters.com/article/us-usa-russia-i...</td>\n",
       "      <td>The presidents of the United States and Russi...</td>\n",
       "      <td>1158</td>\n",
       "    </tr>\n",
       "    <tr>\n",
       "      <th>24091</th>\n",
       "      <td>127553</td>\n",
       "      <td>190744</td>\n",
       "      <td>Bayer’s Monsanto acquisition to face political...</td>\n",
       "      <td>Reuters</td>\n",
       "      <td>Diane Bartz and Greg Roumeliotis</td>\n",
       "      <td>2016-09-15</td>\n",
       "      <td>2016.0</td>\n",
       "      <td>9.0</td>\n",
       "      <td>http://www.reuters.com/article/us-monsanto-m-a...</td>\n",
       "      <td>As the global agricultural sector races to co...</td>\n",
       "      <td>1024</td>\n",
       "    </tr>\n",
       "    <tr>\n",
       "      <th>29287</th>\n",
       "      <td>132749</td>\n",
       "      <td>200127</td>\n",
       "      <td>The Cruz-Kasich alliance can’t work because no...</td>\n",
       "      <td>Vox</td>\n",
       "      <td>Matthew Yglesias</td>\n",
       "      <td>2016/4/25</td>\n",
       "      <td>2016.0</td>\n",
       "      <td>4.0</td>\n",
       "      <td>http://www.vox.com/2016/4/25/11503740/cruz-kas...</td>\n",
       "      <td>Almost as soon as it was announced, the pact ...</td>\n",
       "      <td>601</td>\n",
       "    </tr>\n",
       "  </tbody>\n",
       "</table>\n",
       "</div>"
      ],
      "text/plain": [
       "       Unnamed: 0      id                                              title  \\\n",
       "36906      140368  210885   Date Lab: He’s ‘Star Wars’ and she’s ‘Star Trek’   \n",
       "33698      137160  206819  White House warns North Korea not to test U.S....   \n",
       "18349      121811  180743  U.S.-Russia relations at another low after Syr...   \n",
       "24091      127553  190744  Bayer’s Monsanto acquisition to face political...   \n",
       "29287      132749  200127  The Cruz-Kasich alliance can’t work because no...   \n",
       "\n",
       "           publication                                         author  \\\n",
       "36906  Washington Post                                            NaN   \n",
       "33698  Washington Post                                   Anna Fifield   \n",
       "18349          Reuters  Yeganeh Torbati, Denis Dyomkin and Jeff Mason   \n",
       "24091          Reuters               Diane Bartz and Greg Roumeliotis   \n",
       "29287              Vox                               Matthew Yglesias   \n",
       "\n",
       "             date    year  month  \\\n",
       "36906  2016-03-24  2016.0    3.0   \n",
       "33698  2017-04-17  2017.0    4.0   \n",
       "18349  2017-04-13  2017.0    4.0   \n",
       "24091  2016-09-15  2016.0    9.0   \n",
       "29287   2016/4/25  2016.0    4.0   \n",
       "\n",
       "                                                     url  \\\n",
       "36906  https://web.archive.org/web/20160327000343/htt...   \n",
       "33698  https://web.archive.org/web/20170417232933/htt...   \n",
       "18349  http://www.reuters.com/article/us-usa-russia-i...   \n",
       "24091  http://www.reuters.com/article/us-monsanto-m-a...   \n",
       "29287  http://www.vox.com/2016/4/25/11503740/cruz-kas...   \n",
       "\n",
       "                                                 content  word_count  \n",
       "36906        Interviews by Amanda McGrath He lifts, r...         836  \n",
       "33698    TOKYO  —   Vice President Pence warned North...         286  \n",
       "18349   The presidents of the United States and Russi...        1158  \n",
       "24091   As the global agricultural sector races to co...        1024  \n",
       "29287   Almost as soon as it was announced, the pact ...         601  "
      ]
     },
     "execution_count": 24,
     "metadata": {},
     "output_type": "execute_result"
    }
   ],
   "source": [
    "df2.head()"
   ]
  },
  {
   "cell_type": "code",
   "execution_count": 25,
   "metadata": {},
   "outputs": [
    {
     "name": "stderr",
     "output_type": "stream",
     "text": [
      "/anaconda3/lib/python3.7/site-packages/scipy/stats/stats.py:1713: FutureWarning: Using a non-tuple sequence for multidimensional indexing is deprecated; use `arr[tuple(seq)]` instead of `arr[seq]`. In the future this will be interpreted as an array index, `arr[np.array(seq)]`, which will result either in an error or a different result.\n",
      "  return np.add.reduce(sorted[indexer] * weights, axis=axis) / sumval\n"
     ]
    },
    {
     "data": {
      "image/png": "[encoded data removed]",
      "text/plain": [
       "<Figure size 1080x360 with 1 Axes>"
      ]
     },
     "metadata": {
      "needs_background": "light"
     },
     "output_type": "display_data"
    }
   ],
   "source": [
    "#let's see distribution of 100 samples selected randomly\n",
    "#Organize Data\n",
    "plt.rcParams[\"figure.figsize\"] = (15,5)\n",
    "SR2 = pd.Series(df2['word_count'], name=\"Distribution of samples selected word count\")\n",
    "\n",
    "#Plot Data\n",
    "fig, ax = plt.subplots()\n",
    "sns.distplot(SR2, color=\"g\",ax=ax)\n",
    "plt.show()"
   ]
  },
  {
   "cell_type": "code",
   "execution_count": 26,
   "metadata": {},
   "outputs": [],
   "source": [
    "weights2 = np.ones_like(SR2.values)/len(SR2.values)"
   ]
  },
  {
   "cell_type": "code",
   "execution_count": 27,
   "metadata": {},
   "outputs": [
    {
     "data": {
      "image/png": "[encoded data removed]",
      "text/plain": [
       "<Figure size 1080x360 with 1 Axes>"
      ]
     },
     "metadata": {
      "needs_background": "light"
     },
     "output_type": "display_data"
    }
   ],
   "source": [
    "plt.hist(SR2, bins=10, weights=weights2, color='y', density=False)\n",
    "plt.ylabel(\"Probabilities\")\n",
    "plt.xlabel('distribution')\n",
    "plt.title(\"Probabilities of word count\")\n",
    "plt.show()"
   ]
  },
  {
   "cell_type": "code",
   "execution_count": 28,
   "metadata": {},
   "outputs": [
    {
     "data": {
      "text/plain": [
       "<matplotlib.axes._subplots.AxesSubplot at 0x1a238bc9b0>"
      ]
     },
     "execution_count": 28,
     "metadata": {},
     "output_type": "execute_result"
    },
    {
     "data": {
      "image/png": "[encoded data removed]",
      "text/plain": [
       "<Figure size 1080x360 with 1 Axes>"
      ]
     },
     "metadata": {
      "needs_background": "light"
     },
     "output_type": "display_data"
    }
   ],
   "source": [
    "df2.boxplot(column=['word_count'])"
   ]
  },
  {
   "cell_type": "code",
   "execution_count": 29,
   "metadata": {},
   "outputs": [],
   "source": [
    "# Libraries for text preprocessing\n",
    "\n",
    "from nltk.corpus import stopwords\n",
    "from nltk.stem.porter import PorterStemmer\n",
    "from nltk.tokenize import RegexpTokenizer\n",
    "from nltk.stem.wordnet import WordNetLemmatizer\n",
    "import string"
   ]
  },
  {
   "cell_type": "code",
   "execution_count": 30,
   "metadata": {},
   "outputs": [],
   "source": [
    "#nltk.download('stopwords')\n",
    "#nltk.download('wordnet')"
   ]
  },
  {
   "cell_type": "code",
   "execution_count": 31,
   "metadata": {},
   "outputs": [
    {
     "name": "stdout",
     "output_type": "stream",
     "text": [
      "{'who', 'out', 'under', 'yourselves', 'hadn', 'haven', 'but', 'after', 'once', 'such', \"shouldn't\", \"aren't\", 'against', 'shan', 'to', 'two', 'previously', 'be', 'ain', 'some', \"that'll\", 'doing', 'theirs', 'during', 'as', 'more', 'have', 'very', 'mustn', 'show', 'there', 'said', 'having', 'into', 'me', 'one', 'what', 'when', 'didn', 'was', \"won't\", 'has', \"hasn't\", \"didn't\", 'on', \"should've\", \"wasn't\", 'wouldn', 'herself', 'for', \"hadn't\", 'did', 'few', 'you', 'with', 'nor', 'between', 'do', 'could', \"isn't\", 'aren', 'using', 'new', 'we', \"doesn't\", \"she's\", 'where', 'than', 'them', 'above', \"you'll\", 'other', 're', 'is', 'hers', 'they', 'result', 'whom', 'then', \"haven't\", 'her', 'this', 'say', 'too', 'his', 'up', 'are', 'and', 'y', 'needn', 'our', 'would', 'am', 'had', \"couldn't\", 'each', 'their', 'u', 'd', 'yours', 'don', \"you're\", 'p', 'm', 'wasn', \"wouldn't\", 'ours', \"shan't\", 'shouldn', 'in', 'again', 'doesn', \"it's\", 'a', \"mustn't\", 'ourselves', 'will', 'been', 'about', 'which', 'from', 'not', \"mightn't\", 'no', 'my', 'these', 'off', 'isn', 'being', 'won', \"weren't\", 'him', 'over', 'those', 'here', 'down', 'shown', \"needn't\", 'he', \"don't\", 'all', 'itself', 'below', 'hasn', 'so', 'yourself', \"you've\", 'most', 'couldn', 't', 'mightn', 'until', 'through', 'myself', 'can', 'weren', 's', 'large', 'both', 'll', 'just', 'if', 'it', 'at', 'o', 'were', 'further', 'themselves', 'should', 'same', 'does', 'an', \"you'd\", 'the', 'before', 'ma', 'now', 'any', 'while', 'himself', 'she', 'your', 'that', 'iv', 'only', 'or', 'its', 've', 'because', 'of', 'own', 'why', 'how', 'by', 'also', 'i'}\n"
     ]
    }
   ],
   "source": [
    "stop_words = set(stopwords.words('english'))\n",
    "#print(stop_words)\n",
    "\n",
    "#Creating a list of custom stopwords\n",
    "new_words = [\"using\", \"show\", \"result\", \"large\", \"also\",'would','could',\n",
    "             'say',\"iv\", \"one\",'said', \"two\", \"new\",'he',\"previously\", \"shown\",'p','there','u']\n",
    "stop = stop_words.union(new_words)\n",
    "print(stop)"
   ]
  },
  {
   "cell_type": "code",
   "execution_count": 32,
   "metadata": {},
   "outputs": [
    {
     "data": {
      "text/plain": [
       "36906          Interviews by Amanda McGrath He lifts, r...\n",
       "33698      TOKYO  —   Vice President Pence warned North...\n",
       "18349     The presidents of the United States and Russi...\n",
       "24091     As the global agricultural sector races to co...\n",
       "29287     Almost as soon as it was announced, the pact ...\n",
       "Name: content, dtype: object"
      ]
     },
     "execution_count": 32,
     "metadata": {},
     "output_type": "execute_result"
    }
   ],
   "source": [
    "df2.content.head()"
   ]
  },
  {
   "cell_type": "code",
   "execution_count": 33,
   "metadata": {},
   "outputs": [],
   "source": [
    "#changing all words to lower case\n",
    "df2['content'] = df2['content'].str.lower()"
   ]
  },
  {
   "cell_type": "code",
   "execution_count": 34,
   "metadata": {},
   "outputs": [],
   "source": [
    "#remove tags\n",
    "df2['content'] = df2['content'].str.replace(r'[^\\w\\s]+', '')"
   ]
  },
  {
   "cell_type": "code",
   "execution_count": 35,
   "metadata": {},
   "outputs": [],
   "source": [
    "# remove special characters and digits\n",
    "df2['content'] = df2['content'].str.replace('\\d+', '')"
   ]
  },
  {
   "cell_type": "code",
   "execution_count": 36,
   "metadata": {},
   "outputs": [],
   "source": [
    "#content2 is after removing stop words\n",
    "df2['content'] = df2['content'].apply(lambda x: ' '.join([word for word in x.split() if word not in (stop)]))"
   ]
  },
  {
   "cell_type": "code",
   "execution_count": 37,
   "metadata": {},
   "outputs": [
    {
     "data": {
      "text/plain": [
       "36906    interviews amanda mcgrath lifts reads enjoys e...\n",
       "33698    tokyo vice president pence warned north korea ...\n",
       "18349    presidents united states russia wednesday pres...\n",
       "24091    global agricultural sector races consolidate b...\n",
       "29287    almost soon announced pact ted cruz john kasic...\n",
       "Name: content, dtype: object"
      ]
     },
     "execution_count": 37,
     "metadata": {},
     "output_type": "execute_result"
    }
   ],
   "source": [
    "df2.content.head()"
   ]
  },
  {
   "cell_type": "code",
   "execution_count": 38,
   "metadata": {},
   "outputs": [],
   "source": [
    "corpus = []\n",
    "for i in range(0, 100):\n",
    "    \n",
    "    text = df2['content'].iloc[i]\n",
    "\n",
    "    ##Convert to list from string\n",
    "    text = text.split()\n",
    "    \n",
    "    ##Stemming\n",
    "    ps=PorterStemmer()\n",
    "    \n",
    "    #Lemmatisation\n",
    "    lem = WordNetLemmatizer()\n",
    "    text = [lem.lemmatize(word) for word in text if not word in  \n",
    "            stop_words] \n",
    "    text = \" \".join(text)\n",
    "    corpus.append(text)"
   ]
  },
  {
   "cell_type": "code",
   "execution_count": 39,
   "metadata": {},
   "outputs": [
    {
     "data": {
      "text/plain": [
       "'tokyo vice president penny warned north korea monday test military might pursuing nuclear weapon program citing recent strike syria afghanistan proof american strength resolve stark warning delivered seoul vice president went military demarcation line separate korea revive speculation white house considering military action regime pyongyang penny trump administration want persuade north korea abandon nuclear weapon peaceful mean repeated administration warning option table washington president trump told cnn annual white house easter egg roll north korea gotta behave white house spokesman sean spicer trump drawing red line sand north korea caption white house cabinet official left strong impression early day administration vice president penny tell north korea test american resolve vice president penny warned north korea april treatment syria afghanistan trump administration bombed month continues nuclear program stark warning delivered seoul vice president went military demarcation separate korea revive speculation white house considering military action regime pyongyang read story kim'"
      ]
     },
     "execution_count": 39,
     "metadata": {},
     "output_type": "execute_result"
    }
   ],
   "source": [
    "corpus[1]"
   ]
  },
  {
   "cell_type": "code",
   "execution_count": 40,
   "metadata": {},
   "outputs": [
    {
     "data": {
      "image/png": "[encoded data removed]",
      "text/plain": [
       "<Figure size 1080x360 with 1 Axes>"
      ]
     },
     "metadata": {
      "needs_background": "light"
     },
     "output_type": "display_data"
    }
   ],
   "source": [
    "from wordcloud import WordCloud\n",
    "\n",
    "\n",
    "wordcloud = WordCloud(background_color = 'white',max_words = 100, stopwords = stop,random_state=1).generate(str(corpus))\n",
    "\n",
    "plt.imshow(wordcloud)\n",
    "plt.axis('off')\n",
    "plt.show()"
   ]
  },
  {
   "cell_type": "code",
   "execution_count": 41,
   "metadata": {},
   "outputs": [],
   "source": [
    "#Countvectorization to know frequencies\n",
    "from sklearn.feature_extraction.text import CountVectorizer\n",
    "\n",
    "cv=CountVectorizer(max_df=0.8,stop_words=stop, max_features=10000, ngram_range=(1,3))\n",
    "word_count_vec = cv.fit_transform(corpus)"
   ]
  },
  {
   "cell_type": "code",
   "execution_count": 42,
   "metadata": {},
   "outputs": [
    {
     "data": {
      "text/plain": [
       "(100, 10000)"
      ]
     },
     "execution_count": 42,
     "metadata": {},
     "output_type": "execute_result"
    }
   ],
   "source": [
    "word_count_vec.shape"
   ]
  },
  {
   "cell_type": "code",
   "execution_count": 78,
   "metadata": {},
   "outputs": [
    {
     "name": "stdout",
     "output_type": "stream",
     "text": [
      "[[0 0 0 ... 0 0 0]\n",
      " [0 0 0 ... 0 0 0]\n",
      " [0 0 0 ... 0 0 0]\n",
      " ...\n",
      " [0 0 0 ... 0 0 0]\n",
      " [0 0 2 ... 0 0 0]\n",
      " [0 0 0 ... 0 0 0]]\n"
     ]
    }
   ],
   "source": [
    "print(word_count_vec.toarray())"
   ]
  },
  {
   "cell_type": "code",
   "execution_count": 43,
   "metadata": {},
   "outputs": [],
   "source": [
    "#Most frequently occuring words\n",
    "def get_top_n_words(corpus, n=None):\n",
    "    vec = CountVectorizer().fit(corpus)\n",
    "    bag_of_words = vec.transform(corpus)\n",
    "    sum_words = bag_of_words.sum(axis=0) \n",
    "    words_freq = [(word, sum_words[0, idx]) for word, idx in      \n",
    "                   vec.vocabulary_.items()]\n",
    "    words_freq =sorted(words_freq, key = lambda x: x[1], \n",
    "                       reverse=True)\n",
    "    return words_freq[:n]"
   ]
  },
  {
   "cell_type": "code",
   "execution_count": 44,
   "metadata": {},
   "outputs": [],
   "source": [
    "top_words = get_top_n_words(corpus,20)"
   ]
  },
  {
   "cell_type": "code",
   "execution_count": 45,
   "metadata": {},
   "outputs": [],
   "source": [
    "top_df = pd.DataFrame(top_words)\n",
    "top_df.columns = ['words','freq']"
   ]
  },
  {
   "cell_type": "code",
   "execution_count": 46,
   "metadata": {},
   "outputs": [
    {
     "data": {
      "text/plain": [
       "[Text(0, 0, 'trump'),\n",
       " Text(0, 0, 'people'),\n",
       " Text(0, 0, 'year'),\n",
       " Text(0, 0, 'time'),\n",
       " Text(0, 0, 'state'),\n",
       " Text(0, 0, 'like'),\n",
       " Text(0, 0, 'health'),\n",
       " Text(0, 0, 'percent'),\n",
       " Text(0, 0, 'american'),\n",
       " Text(0, 0, 'president'),\n",
       " Text(0, 0, 'make'),\n",
       " Text(0, 0, 'say'),\n",
       " Text(0, 0, 'many'),\n",
       " Text(0, 0, 'country'),\n",
       " Text(0, 0, 'white'),\n",
       " Text(0, 0, 'republican'),\n",
       " Text(0, 0, 'system'),\n",
       " Text(0, 0, 'company'),\n",
       " Text(0, 0, 'get'),\n",
       " Text(0, 0, 'care')]"
      ]
     },
     "execution_count": 46,
     "metadata": {},
     "output_type": "execute_result"
    },
    {
     "data": {
      "image/png": "[encoded data removed]",
      "text/plain": [
       "<Figure size 1080x360 with 1 Axes>"
      ]
     },
     "metadata": {
      "needs_background": "light"
     },
     "output_type": "display_data"
    }
   ],
   "source": [
    "g = sns.barplot(x=\"words\", y=\"freq\", data=top_df)\n",
    "g.set_xticklabels(g.get_xticklabels(), rotation=30)"
   ]
  },
  {
   "cell_type": "code",
   "execution_count": 47,
   "metadata": {},
   "outputs": [],
   "source": [
    "#Most frequently occuring Bi-grams\n",
    "def get_top_n2_words(corpus, n=None):\n",
    "    vec1 = CountVectorizer(ngram_range=(2,2),  \n",
    "            max_features=2000).fit(corpus)\n",
    "    bag_of_words = vec1.transform(corpus)\n",
    "    sum_words = bag_of_words.sum(axis=0) \n",
    "    words_freq = [(word, sum_words[0, idx]) for word, idx in     \n",
    "                  vec1.vocabulary_.items()]\n",
    "    words_freq =sorted(words_freq, key = lambda x: x[1], \n",
    "                reverse=True)\n",
    "    return words_freq[:n]"
   ]
  },
  {
   "cell_type": "code",
   "execution_count": 48,
   "metadata": {},
   "outputs": [],
   "source": [
    "top2_words = get_top_n2_words(corpus, n=20)\n",
    "top2_df = pd.DataFrame(top2_words)\n",
    "top2_df.columns=[\"Bi-gram\", \"Freq\"]"
   ]
  },
  {
   "cell_type": "code",
   "execution_count": 49,
   "metadata": {},
   "outputs": [
    {
     "data": {
      "text/plain": [
       "[Text(0, 0, 'united state'),\n",
       " Text(0, 0, 'donald trump'),\n",
       " Text(0, 0, 'health care'),\n",
       " Text(0, 0, 'white house'),\n",
       " Text(0, 0, 'last year'),\n",
       " Text(0, 0, 'national security'),\n",
       " Text(0, 0, 'health insurance'),\n",
       " Text(0, 0, 'supreme court'),\n",
       " Text(0, 0, 'care act'),\n",
       " Text(0, 0, 'trump administration'),\n",
       " Text(0, 0, 'last week'),\n",
       " Text(0, 0, 'president trump'),\n",
       " Text(0, 0, 'secretary state'),\n",
       " Text(0, 0, 'hillary clinton'),\n",
       " Text(0, 0, 'dont know'),\n",
       " Text(0, 0, 'time warner'),\n",
       " Text(0, 0, 'vice president'),\n",
       " Text(0, 0, 'president donald'),\n",
       " Text(0, 0, 'social medium'),\n",
       " Text(0, 0, 'white people')]"
      ]
     },
     "execution_count": 49,
     "metadata": {},
     "output_type": "execute_result"
    },
    {
     "data": {
      "image/png": "[encoded data removed]",
      "text/plain": [
       "<Figure size 1080x360 with 1 Axes>"
      ]
     },
     "metadata": {
      "needs_background": "light"
     },
     "output_type": "display_data"
    }
   ],
   "source": [
    "#Barplot of most freq Bi-grams\n",
    "h=sns.barplot(x=\"Bi-gram\", y=\"Freq\", data=top2_df)\n",
    "h.set_xticklabels(h.get_xticklabels(), rotation=45)"
   ]
  },
  {
   "cell_type": "code",
   "execution_count": 50,
   "metadata": {},
   "outputs": [],
   "source": [
    "#Most frequently occuring Tri-grams\n",
    "def get_top_n3_words(corpus, n=None):\n",
    "    vec1 = CountVectorizer(ngram_range=(3,3), \n",
    "           max_features=2000).fit(corpus)\n",
    "    bag_of_words = vec1.transform(corpus)\n",
    "    sum_words = bag_of_words.sum(axis=0) \n",
    "    words_freq = [(word, sum_words[0, idx]) for word, idx in     \n",
    "                  vec1.vocabulary_.items()]\n",
    "    words_freq =sorted(words_freq, key = lambda x: x[1], \n",
    "                reverse=True)\n",
    "    return words_freq[:n]"
   ]
  },
  {
   "cell_type": "code",
   "execution_count": 51,
   "metadata": {},
   "outputs": [],
   "source": [
    "top3_words = get_top_n3_words(corpus, n=20)\n",
    "top3_df = pd.DataFrame(top3_words)\n",
    "top3_df.columns=[\"Tri-gram\", \"Freq\"]"
   ]
  },
  {
   "cell_type": "code",
   "execution_count": 52,
   "metadata": {},
   "outputs": [
    {
     "data": {
      "text/plain": [
       "[Text(0, 0, 'president donald trump'),\n",
       " Text(0, 0, 'affordable care act'),\n",
       " Text(0, 0, 'health care system'),\n",
       " Text(0, 0, 'last man standing'),\n",
       " Text(0, 0, 'sofía muñoz boullosa'),\n",
       " Text(0, 0, 'saul leiter courtesy'),\n",
       " Text(0, 0, 'leiter courtesy howard'),\n",
       " Text(0, 0, 'courtesy howard greenberg'),\n",
       " Text(0, 0, 'howard greenberg gallery'),\n",
       " Text(0, 0, 'greenberg gallery york'),\n",
       " Text(0, 0, 'vice president penny'),\n",
       " Text(0, 0, 'flying spaghetti monster'),\n",
       " Text(0, 0, 'national wildlife refuge'),\n",
       " Text(0, 0, 'american health care'),\n",
       " Text(0, 0, 'health care act'),\n",
       " Text(0, 0, 'according thomson reuters'),\n",
       " Text(0, 0, 'muñoz boullosa pedro'),\n",
       " Text(0, 0, 'people preexisting condition'),\n",
       " Text(0, 0, 'great white shark'),\n",
       " Text(0, 0, 'malheur national wildlife')]"
      ]
     },
     "execution_count": 52,
     "metadata": {},
     "output_type": "execute_result"
    },
    {
     "data": {
      "image/png": "[encoded data removed]",
      "text/plain": [
       "<Figure size 1080x360 with 1 Axes>"
      ]
     },
     "metadata": {
      "needs_background": "light"
     },
     "output_type": "display_data"
    }
   ],
   "source": [
    "j=sns.barplot(x=\"Tri-gram\", y=\"Freq\", data=top3_df)\n",
    "j.set_xticklabels(j.get_xticklabels(), rotation=75)"
   ]
  },
  {
   "cell_type": "code",
   "execution_count": 53,
   "metadata": {},
   "outputs": [],
   "source": [
    "from sklearn.feature_extraction.text import TfidfTransformer"
   ]
  },
  {
   "cell_type": "code",
   "execution_count": 54,
   "metadata": {},
   "outputs": [
    {
     "data": {
      "text/plain": [
       "TfidfTransformer(norm='l2', smooth_idf=True, sublinear_tf=False, use_idf=True)"
      ]
     },
     "execution_count": 54,
     "metadata": {},
     "output_type": "execute_result"
    }
   ],
   "source": [
    "tfidf_transformer = TfidfTransformer()\n",
    "tfidf_transformer.fit(word_count_vec)"
   ]
  },
  {
   "cell_type": "code",
   "execution_count": 55,
   "metadata": {},
   "outputs": [
    {
     "data": {
      "text/html": [
       "<div>\n",
       "<style scoped>\n",
       "    .dataframe tbody tr th:only-of-type {\n",
       "        vertical-align: middle;\n",
       "    }\n",
       "\n",
       "    .dataframe tbody tr th {\n",
       "        vertical-align: top;\n",
       "    }\n",
       "\n",
       "    .dataframe thead th {\n",
       "        text-align: right;\n",
       "    }\n",
       "</style>\n",
       "<table border=\"1\" class=\"dataframe\">\n",
       "  <thead>\n",
       "    <tr style=\"text-align: right;\">\n",
       "      <th></th>\n",
       "      <th>idf_weights</th>\n",
       "    </tr>\n",
       "  </thead>\n",
       "  <tbody>\n",
       "    <tr>\n",
       "      <th>zucker</th>\n",
       "      <td>4.921973</td>\n",
       "    </tr>\n",
       "    <tr>\n",
       "      <th>prri</th>\n",
       "      <td>4.921973</td>\n",
       "    </tr>\n",
       "    <tr>\n",
       "      <th>propulsion</th>\n",
       "      <td>4.921973</td>\n",
       "    </tr>\n",
       "    <tr>\n",
       "      <th>protect american</th>\n",
       "      <td>4.921973</td>\n",
       "    </tr>\n",
       "    <tr>\n",
       "      <th>protect american worker</th>\n",
       "      <td>4.921973</td>\n",
       "    </tr>\n",
       "    <tr>\n",
       "      <th>protects</th>\n",
       "      <td>4.921973</td>\n",
       "    </tr>\n",
       "    <tr>\n",
       "      <th>proverb</th>\n",
       "      <td>4.921973</td>\n",
       "    </tr>\n",
       "    <tr>\n",
       "      <th>highest standard</th>\n",
       "      <td>4.921973</td>\n",
       "    </tr>\n",
       "    <tr>\n",
       "      <th>providence</th>\n",
       "      <td>4.921973</td>\n",
       "    </tr>\n",
       "    <tr>\n",
       "      <th>high low</th>\n",
       "      <td>4.921973</td>\n",
       "    </tr>\n",
       "  </tbody>\n",
       "</table>\n",
       "</div>"
      ],
      "text/plain": [
       "                         idf_weights\n",
       "zucker                      4.921973\n",
       "prri                        4.921973\n",
       "propulsion                  4.921973\n",
       "protect american            4.921973\n",
       "protect american worker     4.921973\n",
       "protects                    4.921973\n",
       "proverb                     4.921973\n",
       "highest standard            4.921973\n",
       "providence                  4.921973\n",
       "high low                    4.921973"
      ]
     },
     "execution_count": 55,
     "metadata": {},
     "output_type": "execute_result"
    }
   ],
   "source": [
    "# print idf values\n",
    "df_idf = pd.DataFrame(tfidf_transformer.idf_, index=cv.get_feature_names(),columns=[\"idf_weights\"])\n",
    " \n",
    "# sort ascending\n",
    "df_idf.sort_values(by=['idf_weights'],ascending=False).head(10)"
   ]
  },
  {
   "cell_type": "code",
   "execution_count": 56,
   "metadata": {},
   "outputs": [],
   "source": [
    "heads = df2.title.values"
   ]
  },
  {
   "cell_type": "code",
   "execution_count": 57,
   "metadata": {},
   "outputs": [],
   "source": [
    "# get feature names\n",
    "feature_names=cv.get_feature_names()"
   ]
  },
  {
   "cell_type": "code",
   "execution_count": 58,
   "metadata": {},
   "outputs": [],
   "source": [
    "#Function for sorting tf_idf in descending order\n",
    "from scipy.sparse import coo_matrix\n",
    "def sort_coo(coo_matrix):\n",
    "    tuples = zip(coo_matrix.col, coo_matrix.data)\n",
    "    return sorted(tuples, key=lambda x: (x[1], x[0]), reverse=True)"
   ]
  },
  {
   "cell_type": "code",
   "execution_count": 59,
   "metadata": {},
   "outputs": [],
   "source": [
    "#funtion to get top n keywords\n",
    "def extract_topn_from_vector(feature_names, sorted_items, topn=10):\n",
    "    \"\"\"get the feature names and tf-idf score of top n items\"\"\"\n",
    "    \n",
    "    #use only topn items from vector\n",
    "    sorted_items = sorted_items[:topn]\n",
    " \n",
    "    score_vals = []\n",
    "    feature_vals = []\n",
    "    \n",
    "    # word index and corresponding tf-idf score\n",
    "    for idx, score in sorted_items:\n",
    "        \n",
    "        #keep track of feature name and its corresponding score\n",
    "        score_vals.append(round(score, 3))\n",
    "        feature_vals.append(feature_names[idx])\n",
    " \n",
    "    #create a tuples of feature,score\n",
    "    #results = zip(feature_vals,score_vals)\n",
    "    results= {}\n",
    "    for idx in range(len(feature_vals)):\n",
    "        results[feature_vals[idx]]=score_vals[idx]\n",
    "    \n",
    "    return results"
   ]
  },
  {
   "cell_type": "code",
   "execution_count": 69,
   "metadata": {},
   "outputs": [],
   "source": [
    "#helper function to display keywords\n",
    "def get_keywords(i):\n",
    "    doc = corpus[i]\n",
    "    tf_idf_vector=tfidf_transformer.transform(cv.transform([doc]))\n",
    "    \n",
    "    #sort the tf-idf vectors by descending order of scores\n",
    "    sorted_items=sort_coo(tf_idf_vector.tocoo())\n",
    "    \n",
    "    #extract only the top n; n here is 5\n",
    "    keywords=extract_topn_from_vector(feature_names,sorted_items,5)\n",
    "    \n",
    "    \n",
    "    # now print the results\n",
    "    print('\\nTitle:')\n",
    "    print(heads[i])\n",
    "    print(\"\\nAbstract:\")\n",
    "    print(doc)\n",
    "    print(\"\\nKeywords:\")\n",
    "    for k in keywords:\n",
    "        print(k,keywords[k])"
   ]
  },
  {
   "cell_type": "code",
   "execution_count": 75,
   "metadata": {},
   "outputs": [
    {
     "name": "stdout",
     "output_type": "stream",
     "text": [
      "78\n",
      "\n",
      "Title:\n",
      "Senate Republicans not ready to give up on Obamacare repeal\n",
      "\n",
      "Abstract:\n",
      "american health care act republican bill repeal replace obamacare suffered quick decisive defeat last week pulled house floor vote couldnt get enough support pas member congress already hinting want try house speaker paul ryan told reporter tuesday repeal effort continue hill across capitol many republican senator appeared undeterred house bill failure suggested senate might draft bill accomplish house republican couldnt think senate going move sen orrin hatch asked next step health care id love see house vote feel deeply may move dont think main area consensus obamacare suck better sen john kennedy put succinctly republican congress voted dozen time repeal obamacare president barack obama office replacing health law centerpiece campaign item many republican make sense legislator want continue pursue negotiation plan gain enough support move congress still exactly republican better big unknown republican offered plan replace obamacare look like different american health care act path toward passing replacement bill incredibly hard see senate majority leader mitch mcconnell rather promise replacement path suggested senate might wait see going see work affordable care act dont think work well think main area consensus obamacare suck republican legislator seem agree thing right dont like obamacare like replace obviously going something health care system like thelma louise say sen pat robert drove cliff need stop car im continuing work republican see come agreement sen lamar alexander hear encouraging sound house talked republican democrat want make bipartisan solution welcome big question still american health care act plan republican stand obamacares place speaker paul ryans answer american health care act significantly scaled back obamacares insurance expansion left million american without coverage bill poll found percent approval rating among american public pleased almost freedom caucus rejected bill felt didnt enough dismantle obamacare insurance regulation moderate republican meanwhile vote bill leave many people uninsured district currently policy proposal circulating anything satisfy group instead youre seeing lot talk reviving repeal effort without much substance behind another big unknown role white house might play push replacement bill york time reported tuesday white house strategist steve bannon hosting talk republican legislator opposed last bill hour later white house press briefing press secretary sean spicer tried tamp idea pursuing particular bill strategy discussion listened idea yes actively planning immediate strategy time\n",
      "\n",
      "Keywords:\n",
      "republican 0.246\n",
      "bill 0.227\n",
      "obamacare 0.196\n",
      "house 0.176\n",
      "health care 0.168\n"
     ]
    }
   ],
   "source": [
    "get_keywords(int(input()))"
   ]
  },
  {
   "cell_type": "code",
   "execution_count": null,
   "metadata": {},
   "outputs": [],
   "source": []
  }
 ],
 "metadata": {
  "kernelspec": {
   "display_name": "Python 3",
   "language": "python",
   "name": "python3"
  },
  "language_info": {
   "codemirror_mode": {
    "name": "ipython",
    "version": 3
   },
   "file_extension": ".py",
   "mimetype": "text/x-python",
   "name": "python",
   "nbconvert_exporter": "python",
   "pygments_lexer": "ipython3",
   "version": "3.7.1"
  }
 },
 "nbformat": 4,
 "nbformat_minor": 2
}
